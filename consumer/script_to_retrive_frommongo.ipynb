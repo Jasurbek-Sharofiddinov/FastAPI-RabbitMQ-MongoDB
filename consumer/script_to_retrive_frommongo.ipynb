{
 "cells": [
  {
   "cell_type": "code",
   "execution_count": 67,
   "id": "initial_id",
   "metadata": {
    "collapsed": true,
    "ExecuteTime": {
     "end_time": "2023-08-02T05:43:01.209676420Z",
     "start_time": "2023-08-02T05:43:01.155250860Z"
    }
   },
   "outputs": [
    {
     "name": "stdout",
     "output_type": "stream",
     "text": [
      "3\n"
     ]
    }
   ],
   "source": [
    "# MongoDB setup\n",
    "import pymongo\n",
    "mongo_client = pymongo.MongoClient('mongodb://localhost:27017/')\n",
    "db = mongo_client['user_db']\n",
    "users_collection = db['users']\n",
    "print(users_collection.count_documents({}))"
   ]
  },
  {
   "cell_type": "code",
   "execution_count": 68,
   "outputs": [
    {
     "name": "stdout",
     "output_type": "stream",
     "text": [
      "{'_id': ObjectId('64c9eccf80a0973a1975af76'), 'username': 'jasur4'}\n",
      "{'_id': ObjectId('64c9ecda80a0973a1975af77'), 'username': 'jasur4'}\n",
      "{'_id': ObjectId('64c9ece480a0973a1975af78'), 'username': 'jasur44'}\n"
     ]
    }
   ],
   "source": [
    "for i in users_collection.find():\n",
    "    print(i)"
   ],
   "metadata": {
    "collapsed": false,
    "ExecuteTime": {
     "end_time": "2023-08-02T05:43:01.210227182Z",
     "start_time": "2023-08-02T05:43:01.198371006Z"
    }
   },
   "id": "61dbb817c4bfa1f6"
  }
 ],
 "metadata": {
  "kernelspec": {
   "display_name": "Python 3",
   "language": "python",
   "name": "python3"
  },
  "language_info": {
   "codemirror_mode": {
    "name": "ipython",
    "version": 2
   },
   "file_extension": ".py",
   "mimetype": "text/x-python",
   "name": "python",
   "nbconvert_exporter": "python",
   "pygments_lexer": "ipython2",
   "version": "2.7.6"
  }
 },
 "nbformat": 4,
 "nbformat_minor": 5
}
